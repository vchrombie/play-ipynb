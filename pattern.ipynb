{
 "cells": [
  {
   "cell_type": "code",
   "execution_count": 1,
   "metadata": {},
   "outputs": [
    {
     "name": "stdout",
     "output_type": "stream",
     "text": [
      "Collecting pattern\n",
      "  Downloading https://files.pythonhosted.org/packages/1e/07/b0e61b6c818ed4b6145fe01d1c341223aa6cfbc3928538ad1f2b890924a3/Pattern-3.6.0.tar.gz (22.2MB)\n",
      "Requirement already satisfied: future in c:\\users\\acham\\anaconda3\\lib\\site-packages (from pattern) (0.17.1)\n",
      "Collecting backports.csv (from pattern)\n",
      "  Downloading https://files.pythonhosted.org/packages/71/f7/5db9136de67021a6dce4eefbe50d46aa043e59ebb11c83d4ecfeb47b686e/backports.csv-1.0.6-py2.py3-none-any.whl\n",
      "Collecting mysqlclient (from pattern)\n",
      "  Downloading https://files.pythonhosted.org/packages/2d/75/6e11c740cfd3aea30c39a90a816fe83fd328688f5d8be8362568618c1e0e/mysqlclient-1.3.14-cp37-cp37m-win_amd64.whl (266kB)\n",
      "Requirement already satisfied: beautifulsoup4 in c:\\users\\acham\\anaconda3\\lib\\site-packages (from pattern) (4.6.3)\n",
      "Requirement already satisfied: lxml in c:\\users\\acham\\anaconda3\\lib\\site-packages (from pattern) (4.2.5)\n",
      "Collecting feedparser (from pattern)\n",
      "  Downloading https://files.pythonhosted.org/packages/91/d8/7d37fec71ff7c9dbcdd80d2b48bcdd86d6af502156fc93846fb0102cb2c4/feedparser-5.2.1.tar.bz2 (192kB)\n",
      "Collecting pdfminer.six (from pattern)\n",
      "  Downloading https://files.pythonhosted.org/packages/8a/fd/6e8746e6965d1a7ea8e97253e3d79e625da5547e8f376f88de5d024bacb9/pdfminer.six-20181108-py2.py3-none-any.whl (5.6MB)\n",
      "Requirement already satisfied: numpy in c:\\users\\acham\\anaconda3\\lib\\site-packages (from pattern) (1.15.4)\n",
      "Requirement already satisfied: scipy in c:\\users\\acham\\anaconda3\\lib\\site-packages (from pattern) (1.1.0)\n",
      "Requirement already satisfied: nltk in c:\\users\\acham\\anaconda3\\lib\\site-packages (from pattern) (3.3)\n",
      "Collecting python-docx (from pattern)\n",
      "  Downloading https://files.pythonhosted.org/packages/00/ed/dc8d859eb32980ccf0e5a9b1ab3311415baf55de208777d85826a7fb0b65/python-docx-0.8.7.tar.gz (5.4MB)\n",
      "Collecting cherrypy (from pattern)\n",
      "  Downloading https://files.pythonhosted.org/packages/3e/a2/cb5636c76781452bacbdb67d666b787ae560fb180d72eb5f94a891fcc03a/CherryPy-18.1.0-py2.py3-none-any.whl (417kB)\n",
      "Requirement already satisfied: requests in c:\\users\\acham\\anaconda3\\lib\\site-packages (from pattern) (2.19.1)\n",
      "Requirement already satisfied: sortedcontainers in c:\\users\\acham\\anaconda3\\lib\\site-packages (from pdfminer.six->pattern) (2.0.5)\n",
      "Collecting pycryptodome (from pdfminer.six->pattern)\n",
      "  Downloading https://files.pythonhosted.org/packages/fc/99/ed80fd36eebe26914bd8aae4ac70fcef2d4ad94453981c171fe791629146/pycryptodome-3.7.2-cp37-cp37m-win_amd64.whl (8.0MB)\n",
      "Requirement already satisfied: six in c:\\users\\acham\\anaconda3\\lib\\site-packages (from pdfminer.six->pattern) (1.11.0)\n",
      "Collecting portend>=2.1.1 (from cherrypy->pattern)\n",
      "  Downloading https://files.pythonhosted.org/packages/81/43/21afd5914b74d4271184ee76f4093b45aa6a580dc6627d72dfc33664c6ac/portend-2.3-py2.py3-none-any.whl\n",
      "Collecting zc.lockfile (from cherrypy->pattern)\n",
      "  Downloading https://files.pythonhosted.org/packages/58/c2/d7c89bdad237b4b7837609172be3e8bf5630796c0020494a15b97ece8eb1/zc.lockfile-1.4.tar.gz\n",
      "Collecting cheroot>=6.2.4 (from cherrypy->pattern)\n",
      "  Downloading https://files.pythonhosted.org/packages/89/10/96d1db9062afd476e6d63895dd3e41ced836228f904532bc640106be20ef/cheroot-6.5.4-py2.py3-none-any.whl (74kB)\n",
      "Requirement already satisfied: pywin32; sys_platform == \"win32\" in c:\\users\\acham\\anaconda3\\lib\\site-packages (from cherrypy->pattern) (223)\n",
      "Requirement already satisfied: more-itertools in c:\\users\\acham\\anaconda3\\lib\\site-packages (from cherrypy->pattern) (4.3.0)\n",
      "Requirement already satisfied: certifi>=2017.4.17 in c:\\users\\acham\\anaconda3\\lib\\site-packages (from requests->pattern) (2018.10.15)\n",
      "Requirement already satisfied: urllib3<1.24,>=1.21.1 in c:\\users\\acham\\anaconda3\\lib\\site-packages (from requests->pattern) (1.23)\n",
      "Requirement already satisfied: idna<2.8,>=2.5 in c:\\users\\acham\\anaconda3\\lib\\site-packages (from requests->pattern) (2.7)\n",
      "Requirement already satisfied: chardet<3.1.0,>=3.0.2 in c:\\users\\acham\\anaconda3\\lib\\site-packages (from requests->pattern) (3.0.4)\n",
      "Collecting tempora>=1.8 (from portend>=2.1.1->cherrypy->pattern)\n",
      "  Downloading https://files.pythonhosted.org/packages/6a/73/22900a52243fdcb2251a10bdb7c6a75fc8d40ab59ec25c01e26823af5126/tempora-1.14-py2.py3-none-any.whl\n",
      "Requirement already satisfied: setuptools in c:\\users\\acham\\anaconda3\\lib\\site-packages (from zc.lockfile->cherrypy->pattern) (40.2.0)\n",
      "Collecting backports.functools-lru-cache (from cheroot>=6.2.4->cherrypy->pattern)\n",
      "  Downloading https://files.pythonhosted.org/packages/03/8e/2424c0e65c4a066e28f539364deee49b6451f8fcd4f718fefa50cc3dcf48/backports.functools_lru_cache-1.5-py2.py3-none-any.whl\n",
      "Collecting jaraco.functools>=1.20 (from tempora>=1.8->portend>=2.1.1->cherrypy->pattern)\n",
      "  Downloading https://files.pythonhosted.org/packages/12/a4/3e7366d0f5e75dcad7be88524c8cbd0f3a9fb1db243269550981740c57fe/jaraco.functools-2.0-py2.py3-none-any.whl\n",
      "Requirement already satisfied: pytz in c:\\users\\acham\\anaconda3\\lib\\site-packages (from tempora>=1.8->portend>=2.1.1->cherrypy->pattern) (2018.5)\n",
      "Building wheels for collected packages: pattern, feedparser, python-docx, zc.lockfile\n",
      "  Running setup.py bdist_wheel for pattern: started\n",
      "  Running setup.py bdist_wheel for pattern: finished with status 'done'\n",
      "  Stored in directory: C:\\Users\\acham\\AppData\\Local\\pip\\Cache\\wheels\\dc\\9a\\0e\\5fb1a603ed4e3aa8722a88e9cf4a82da7d1b63e3d2cc34bee5\n",
      "  Running setup.py bdist_wheel for feedparser: started\n",
      "  Running setup.py bdist_wheel for feedparser: finished with status 'done'\n",
      "  Stored in directory: C:\\Users\\acham\\AppData\\Local\\pip\\Cache\\wheels\\8c\\69\\b7\\f52763c41c5471df57703a0ef718a32a5e81ee35dcf6d4f97f\n",
      "  Running setup.py bdist_wheel for python-docx: started\n",
      "  Running setup.py bdist_wheel for python-docx: finished with status 'done'\n",
      "  Stored in directory: C:\\Users\\acham\\AppData\\Local\\pip\\Cache\\wheels\\c2\\c7\\a7\\4cb54d79bf82f9bb4be1780647700f7ec311f0f98a7a017c17\n",
      "  Running setup.py bdist_wheel for zc.lockfile: started\n",
      "  Running setup.py bdist_wheel for zc.lockfile: finished with status 'done'\n",
      "  Stored in directory: C:\\Users\\acham\\AppData\\Local\\pip\\Cache\\wheels\\09\\27\\a8\\323eeff503e981b09d45ca3a0f085eb03c8a249e87157dd23f\n",
      "Successfully built pattern feedparser python-docx zc.lockfile\n",
      "Installing collected packages: backports.csv, mysqlclient, feedparser, pycryptodome, pdfminer.six, python-docx, jaraco.functools, tempora, portend, zc.lockfile, backports.functools-lru-cache, cheroot, cherrypy, pattern\n",
      "Successfully installed backports.csv-1.0.6 backports.functools-lru-cache-1.5 cheroot-6.5.4 cherrypy-18.1.0 feedparser-5.2.1 jaraco.functools-2.0 mysqlclient-1.3.14 pattern-3.6 pdfminer.six-20181108 portend-2.3 pycryptodome-3.7.2 python-docx-0.8.7 tempora-1.14 zc.lockfile-1.4\n"
     ]
    }
   ],
   "source": [
    "import sys\n",
    "!{sys.executable} -m pip install pattern"
   ]
  },
  {
   "cell_type": "code",
   "execution_count": 5,
   "metadata": {},
   "outputs": [
    {
     "name": "stdout",
     "output_type": "stream",
     "text": [
      "RI will receive a $4.19 million grant to help improve early-education offerings. “We have no task more important, no investment more worthwhile, than to ensure all children are on a path to success.” - - @GovRaimondo via @projo: https://t.co/XYqYyqFYIs\n",
      "RT @THETXEMBASSY: #BuildTheWall\n",
      "\n",
      "More government waste, sell these properties.\n",
      "\n",
      "https://t.co/3yI1sc78uP\n",
      "\n",
      "$1.7 Billion annually for vacant Federal buildings.\n",
      "\n",
      "Start doing the math in this thread @NancyPelosi and @SenSchumer.\n",
      "\n",
      "#MAGA is finding the money so you don't have to. #SchumerPelosiShutdown\n",
      "RT @ericgarland: The NYT, lacking access to Google, fails to note that Whelan's lawyer also represents the Russian smuggling drugs to Argentina through Russia's embassy. https://t.co/9EIQ7qN8ag\n",
      "Our 2019 program book is a great place to advertise your business or promote your organization. The deadline to place an ad in our program book is January 5th. All ads can be submitted via Google form here: https://t.co/uTW2IxYJq5\n",
      "RT @PoliticalShort: Predictably, no one is confirming McClatchy’s latest Fusion GPS fabrication on Cohen going to Prague. See Cleta Mitchell’s emails w/same McClatchy writers from when they ran a Fusion planted story accusing Mitchell of knowing about “Trump-Russia collusion.”https://t.co/tOyxVeIrkR\n",
      "RT @XpertNamada: *Opens Google*\n",
      "Directions to TD Jakes church https://t.co/bbs5xcTqDA\n",
      "RT @deluxecurt: As the year ends, be reidy to #Plan2019WithJaDine.\n",
      "\n",
      "We are selling 2019 planners (5.5” x 8”) with JaDine contents for PHP 650.00 only!\n",
      "\n",
      "To order: https://t.co/FPa1KxpVVh …\n",
      "\n",
      "See thread below for sample pages. https://t.co/rueBd3Ry76\n",
      "RT @Raptors: The man’s automatic.\n",
      "\n",
      "Get Kawhi to @NBAAllStar on this 2-for-1 voting day.\n",
      "\n",
      "Vote here 👉🏽 https://t.co/kJjrU16AxR\n",
      "Then vote here 👉🏽 https://t.co/QkJfeSAJ0b https://t.co/Be7kMAdGdr\n",
      "Apple Watch, iPhone, and Google Maps Aid in Woman's Rescue - Newser https://t.co/rFHVaNfLrx https://t.co/UEvG1WXDvO\n"
     ]
    }
   ],
   "source": [
    "from pattern.web import Twitter, plaintext\n",
    "\n",
    "twitter = Twitter(language='en') \n",
    "\n",
    "for tweet in twitter.search('\"Google\"', cached=False):\n",
    "    print(plaintext(tweet.text))"
   ]
  },
  {
   "cell_type": "code",
   "execution_count": 12,
   "metadata": {},
   "outputs": [
    {
     "name": "stdout",
     "output_type": "stream",
     "text": [
      "WIN\n",
      "WIN\n",
      "WIN\n",
      "WIN\n",
      "WIN\n",
      "WIN\n",
      "WIN\n",
      "WIN\n",
      "WIN\n",
      "WIN\n",
      "WIN\n",
      "WIN\n",
      "WIN\n",
      "FAIL\n",
      "WIN\n",
      "FAIL\n",
      "WIN\n",
      "FAIL\n"
     ]
    }
   ],
   "source": [
    "from pattern.web    import Twitter\n",
    "from pattern.en     import tag\n",
    "from pattern.vector import KNN, count\n",
    " \n",
    "twitter, knn = Twitter(), KNN()\n",
    "\n",
    "for i in range(1, 10):\n",
    "    for tweet in twitter.search('#win OR #fail', start=i, count=100):\n",
    "        s = tweet.text.lower()\n",
    "        p = '#win' in s and 'WIN' or 'FAIL'\n",
    "        v = tag(s)\n",
    "        v = [word for word, pos in v if pos == 'JJ'] # JJ = adjective\n",
    "        v = count(v) \n",
    "        if v:\n",
    "            knn.train(v, type=p)\n",
    "    print(knn.classify('sweet potato burger'))\n",
    "    print(knn.classify('stupid autocorrect'))"
   ]
  },
  {
   "cell_type": "code",
   "execution_count": null,
   "metadata": {},
   "outputs": [],
   "source": []
  }
 ],
 "metadata": {
  "kernelspec": {
   "display_name": "Python 3",
   "language": "python",
   "name": "python3"
  },
  "language_info": {
   "codemirror_mode": {
    "name": "ipython",
    "version": 3
   },
   "file_extension": ".py",
   "mimetype": "text/x-python",
   "name": "python",
   "nbconvert_exporter": "python",
   "pygments_lexer": "ipython3",
   "version": "3.7.0"
  }
 },
 "nbformat": 4,
 "nbformat_minor": 2
}
