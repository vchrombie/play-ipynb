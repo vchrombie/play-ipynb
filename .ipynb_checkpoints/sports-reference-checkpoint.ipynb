{
 "cells": [
  {
   "cell_type": "code",
   "execution_count": 6,
   "metadata": {},
   "outputs": [
    {
     "name": "stdout",
     "output_type": "stream",
     "text": [
      "New Orleans Pelicans NOP\n",
      "Golden State Warriors GSW\n",
      "Toronto Raptors TOR\n",
      "Philadelphia 76ers PHI\n",
      "Sacramento Kings SAC\n",
      "San Antonio Spurs SAS\n",
      "Brooklyn Nets BRK\n",
      "Los Angeles Lakers LAL\n",
      "Los Angeles Clippers LAC\n",
      "Washington Wizards WAS\n",
      "Portland Trail Blazers POR\n",
      "Minnesota Timberwolves MIN\n",
      "Milwaukee Bucks MIL\n",
      "Charlotte Hornets CHO\n",
      "Oklahoma City Thunder OKC\n",
      "Phoenix Suns PHO\n",
      "Boston Celtics BOS\n",
      "Dallas Mavericks DAL\n",
      "Utah Jazz UTA\n",
      "Houston Rockets HOU\n",
      "New York Knicks NYK\n",
      "Atlanta Hawks ATL\n",
      "Indiana Pacers IND\n",
      "Denver Nuggets DEN\n",
      "Cleveland Cavaliers CLE\n",
      "Detroit Pistons DET\n",
      "Miami Heat MIA\n",
      "Orlando Magic ORL\n",
      "Chicago Bulls CHI\n",
      "Memphis Grizzlies MEM\n"
     ]
    }
   ],
   "source": [
    "from sportsreference.nba.teams import Teams\n",
    "\n",
    "teams = Teams()\n",
    "for team in teams:\n",
    "    print(team.name, team.abbreviation)"
   ]
  },
  {
   "cell_type": "code",
   "execution_count": 8,
   "metadata": {},
   "outputs": [
    {
     "name": "stdout",
     "output_type": "stream",
     "text": [
      "Tue, Nov 6, 2018\n",
      "Fri, Nov 9, 2018\n",
      "Tue, Nov 13, 2018\n",
      "Fri, Nov 16, 2018\n",
      "Wed, Nov 21, 2018\n",
      "Sat, Nov 24, 2018\n",
      "Wed, Nov 28, 2018\n",
      "Sat, Dec 1, 2018\n",
      "Sat, Dec 8, 2018\n",
      "Sat, Dec 22, 2018\n",
      "Sat, Dec 29, 2018\n",
      "Wed, Jan 2, 2019\n",
      "Sun, Jan 6, 2019\n",
      "Sat, Jan 12, 2019\n",
      "Mon, Jan 21, 2019\n",
      "Sat, Jan 26, 2019\n",
      "Fri, Feb 1, 2019\n",
      "Sat, Feb 2, 2019\n",
      "Fri, Feb 8, 2019\n",
      "Sat, Feb 9, 2019\n",
      "Fri, Feb 15, 2019\n",
      "Sat, Feb 16, 2019\n",
      "Fri, Feb 22, 2019\n",
      "Sat, Feb 23, 2019\n",
      "Fri, Mar 1, 2019\n",
      "Sat, Mar 2, 2019\n",
      "Fri, Mar 8, 2019\n",
      "Sat, Mar 9, 2019\n"
     ]
    }
   ],
   "source": [
    "from sportsreference.ncaab.schedule import Schedule\n",
    "\n",
    "purdue_schedule = Schedule('harvard')\n",
    "for game in purdue_schedule:\n",
    "    print(game.date)"
   ]
  },
  {
   "cell_type": "code",
   "execution_count": 17,
   "metadata": {},
   "outputs": [
    {
     "data": {
      "text/plain": [
       "<sportsreference.mlb.boxscore.Boxscore at 0x26498e394a8>"
      ]
     },
     "execution_count": 17,
     "metadata": {},
     "output_type": "execute_result"
    }
   ],
   "source": [
    "from sportsreference.mlb.boxscore import Boxscore\n",
    "import pandas\n",
    "game = Boxscore('BOS201806070')\n",
    "game"
   ]
  },
  {
   "cell_type": "code",
   "execution_count": 25,
   "metadata": {},
   "outputs": [
    {
     "name": "stdout",
     "output_type": "stream",
     "text": [
      "[Bc Nokia 25-23 Salon Vilpas, Helsinki Seagulls 18-27 Kataja, EBAA 58-75 Bakken Bears, Kauhajoen Karhu 23-13 KTP Basket, Siauliai 43-39 Dzukija, Uralmash 63-77 Rodniki Izhevsk, Temp Sumz Revda 100-73 MBA Moscow, Sacramento Kings 113-117 Denver Nuggets, Jiangsu Dragons 126-106 Shanghai, Fujian 117-87 Bayi Rockets]\n"
     ]
    }
   ],
   "source": [
    "import sports\n",
    "\n",
    "all_matches = sports.all_matches()\n",
    "basketball = all_matches['basketball']\n",
    "\n",
    "print(basketball)"
   ]
  },
  {
   "cell_type": "code",
   "execution_count": null,
   "metadata": {},
   "outputs": [],
   "source": []
  },
  {
   "cell_type": "code",
   "execution_count": null,
   "metadata": {},
   "outputs": [],
   "source": []
  }
 ],
 "metadata": {
  "kernelspec": {
   "display_name": "Python 3",
   "language": "python",
   "name": "python3"
  },
  "language_info": {
   "codemirror_mode": {
    "name": "ipython",
    "version": 3
   },
   "file_extension": ".py",
   "mimetype": "text/x-python",
   "name": "python",
   "nbconvert_exporter": "python",
   "pygments_lexer": "ipython3",
   "version": "3.7.2"
  }
 },
 "nbformat": 4,
 "nbformat_minor": 2
}
