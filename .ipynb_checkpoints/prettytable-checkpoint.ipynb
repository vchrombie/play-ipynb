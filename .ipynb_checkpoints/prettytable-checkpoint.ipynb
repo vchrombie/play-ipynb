{
 "cells": [
  {
   "cell_type": "code",
   "execution_count": 1,
   "metadata": {},
   "outputs": [
    {
     "name": "stdout",
     "output_type": "stream",
     "text": [
      "Requirement already satisfied: prettytable in /home/vchrombie/anaconda3/lib/python3.7/site-packages (0.7.2)\n",
      "\u001b[31mtwisted 18.7.0 requires PyHamcrest>=1.9.0, which is not installed.\u001b[0m\n",
      "\u001b[33mYou are using pip version 10.0.1, however version 19.0.3 is available.\n",
      "You should consider upgrading via the 'pip install --upgrade pip' command.\u001b[0m\n"
     ]
    }
   ],
   "source": [
    "import sys\n",
    "!{sys.executable} -m pip install prettytable"
   ]
  },
  {
   "cell_type": "code",
   "execution_count": 2,
   "metadata": {},
   "outputs": [
    {
     "name": "stdout",
     "output_type": "stream",
     "text": [
      "+-------------+-------+\n",
      "|     food    | price |\n",
      "+-------------+-------+\n",
      "| gulab jamun | Rs 10 |\n",
      "|    laddu    | Rs 20 |\n",
      "|    halwa    | Rs 25 |\n",
      "+-------------+-------+\n"
     ]
    }
   ],
   "source": [
    "from prettytable import PrettyTable\n",
    "\n",
    "table = PrettyTable(['food','price'])\n",
    "table.add_row(['gulab jamun','Rs 10'])\n",
    "table.add_row(['laddu','Rs 20'])\n",
    "table.add_row(['halwa','Rs 25'])\n",
    "print(table)"
   ]
  },
  {
   "cell_type": "code",
   "execution_count": 3,
   "metadata": {},
   "outputs": [
    {
     "name": "stdout",
     "output_type": "stream",
     "text": [
      "+-------------+-------+\n",
      "|     food    | price |\n",
      "+-------------+-------+\n",
      "| gulab jamun | Rs 10 |\n",
      "|    laddu    | Rs 20 |\n",
      "|    halwa    | Rs 25 |\n",
      "+-------------+-------+\n"
     ]
    }
   ],
   "source": [
    "table.sortby = 'price'\n",
    "print(table)"
   ]
  },
  {
   "cell_type": "code",
   "execution_count": 4,
   "metadata": {},
   "outputs": [
    {
     "name": "stdout",
     "output_type": "stream",
     "text": [
      "+-------------+-------+\n",
      "|     food    | price |\n",
      "+-------------+-------+\n",
      "| gulab jamun |   10  |\n",
      "|    laddu    |   20  |\n",
      "|    halwa    |   25  |\n",
      "+-------------+-------+\n"
     ]
    }
   ],
   "source": [
    "from prettytable import PrettyTable\n",
    "\n",
    "d = {'gulab jamun':10, 'laddu':20, 'halwa':25}\n",
    "table = PrettyTable(['food', 'price'])\n",
    "\n",
    "for key, value in d.items():\n",
    "    table.add_row([key, value])\n",
    "\n",
    "print(table)"
   ]
  },
  {
   "cell_type": "code",
   "execution_count": 5,
   "metadata": {},
   "outputs": [],
   "source": [
    "table.sortby = 'price'"
   ]
  },
  {
   "cell_type": "code",
   "execution_count": 6,
   "metadata": {},
   "outputs": [
    {
     "name": "stdout",
     "output_type": "stream",
     "text": [
      "+-------------+-------+\n",
      "|     food    | price |\n",
      "+-------------+-------+\n",
      "| gulab jamun |   10  |\n",
      "|    laddu    |   20  |\n",
      "|    halwa    |   25  |\n",
      "+-------------+-------+\n"
     ]
    }
   ],
   "source": [
    "print(table)"
   ]
  },
  {
   "cell_type": "code",
   "execution_count": null,
   "metadata": {},
   "outputs": [],
   "source": []
  }
 ],
 "metadata": {
  "kernelspec": {
   "display_name": "Python 3",
   "language": "python",
   "name": "python3"
  },
  "language_info": {
   "codemirror_mode": {
    "name": "ipython",
    "version": 3
   },
   "file_extension": ".py",
   "mimetype": "text/x-python",
   "name": "python",
   "nbconvert_exporter": "python",
   "pygments_lexer": "ipython3",
   "version": "3.7.2"
  }
 },
 "nbformat": 4,
 "nbformat_minor": 2
}
